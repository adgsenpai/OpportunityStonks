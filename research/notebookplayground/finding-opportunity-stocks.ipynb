{
 "cells": [
  {
   "cell_type": "markdown",
   "metadata": {},
   "source": [
    "# Finding Opportunity Stocks"
   ]
  },
  {
   "cell_type": "markdown",
   "metadata": {},
   "source": [
    "### Installing Modules"
   ]
  },
  {
   "cell_type": "code",
   "execution_count": 90,
   "metadata": {},
   "outputs": [
    {
     "name": "stdout",
     "output_type": "stream",
     "text": [
      "Requirement already satisfied: pandas in c:\\users\\adgru\\appdata\\local\\packages\\pythonsoftwarefoundation.python.3.9_qbz5n2kfra8p0\\localcache\\local-packages\\python39\\site-packages (from -r requirements.txt (line 1)) (1.3.1)\n",
      "Requirement already satisfied: numpy in c:\\users\\adgru\\appdata\\local\\packages\\pythonsoftwarefoundation.python.3.9_qbz5n2kfra8p0\\localcache\\local-packages\\python39\\site-packages (from -r requirements.txt (line 2)) (1.21.1)\n",
      "Requirement already satisfied: matplotlib in c:\\users\\adgru\\appdata\\local\\packages\\pythonsoftwarefoundation.python.3.9_qbz5n2kfra8p0\\localcache\\local-packages\\python39\\site-packages (from -r requirements.txt (line 3)) (3.4.3)\n",
      "Requirement already satisfied: yfinance in c:\\users\\adgru\\appdata\\local\\packages\\pythonsoftwarefoundation.python.3.9_qbz5n2kfra8p0\\localcache\\local-packages\\python39\\site-packages (from -r requirements.txt (line 4)) (0.1.69)\n",
      "Requirement already satisfied: yahoofinancials in c:\\users\\adgru\\appdata\\local\\packages\\pythonsoftwarefoundation.python.3.9_qbz5n2kfra8p0\\localcache\\local-packages\\python39\\site-packages (from -r requirements.txt (line 5)) (1.6)\n",
      "Requirement already satisfied: wget in c:\\users\\adgru\\appdata\\local\\packages\\pythonsoftwarefoundation.python.3.9_qbz5n2kfra8p0\\localcache\\local-packages\\python39\\site-packages (from -r requirements.txt (line 6)) (3.2)\n",
      "Requirement already satisfied: forex-python in c:\\users\\adgru\\appdata\\local\\packages\\pythonsoftwarefoundation.python.3.9_qbz5n2kfra8p0\\localcache\\local-packages\\python39\\site-packages (from -r requirements.txt (line 7)) (1.8)\n",
      "Requirement already satisfied: tqdm in c:\\users\\adgru\\appdata\\local\\packages\\pythonsoftwarefoundation.python.3.9_qbz5n2kfra8p0\\localcache\\local-packages\\python39\\site-packages (from -r requirements.txt (line 8)) (4.62.3)\n",
      "Collecting ipywidgets\n",
      "  Downloading ipywidgets-7.6.5-py2.py3-none-any.whl (121 kB)\n",
      "Requirement already satisfied: pytz>=2017.3 in c:\\users\\adgru\\appdata\\local\\packages\\pythonsoftwarefoundation.python.3.9_qbz5n2kfra8p0\\localcache\\local-packages\\python39\\site-packages (from pandas->-r requirements.txt (line 1)) (2021.1)\n",
      "Requirement already satisfied: python-dateutil>=2.7.3 in c:\\users\\adgru\\appdata\\local\\packages\\pythonsoftwarefoundation.python.3.9_qbz5n2kfra8p0\\localcache\\local-packages\\python39\\site-packages (from pandas->-r requirements.txt (line 1)) (2.8.2)\n",
      "Requirement already satisfied: kiwisolver>=1.0.1 in c:\\users\\adgru\\appdata\\local\\packages\\pythonsoftwarefoundation.python.3.9_qbz5n2kfra8p0\\localcache\\local-packages\\python39\\site-packages (from matplotlib->-r requirements.txt (line 3)) (1.3.2)\n",
      "Requirement already satisfied: cycler>=0.10 in c:\\users\\adgru\\appdata\\local\\packages\\pythonsoftwarefoundation.python.3.9_qbz5n2kfra8p0\\localcache\\local-packages\\python39\\site-packages (from matplotlib->-r requirements.txt (line 3)) (0.10.0)\n",
      "Requirement already satisfied: pyparsing>=2.2.1 in c:\\users\\adgru\\appdata\\local\\packages\\pythonsoftwarefoundation.python.3.9_qbz5n2kfra8p0\\localcache\\local-packages\\python39\\site-packages (from matplotlib->-r requirements.txt (line 3)) (2.4.7)\n",
      "Requirement already satisfied: pillow>=6.2.0 in c:\\users\\adgru\\appdata\\local\\packages\\pythonsoftwarefoundation.python.3.9_qbz5n2kfra8p0\\localcache\\local-packages\\python39\\site-packages (from matplotlib->-r requirements.txt (line 3)) (8.3.2)\n",
      "Requirement already satisfied: multitasking>=0.0.7 in c:\\users\\adgru\\appdata\\local\\packages\\pythonsoftwarefoundation.python.3.9_qbz5n2kfra8p0\\localcache\\local-packages\\python39\\site-packages (from yfinance->-r requirements.txt (line 4)) (0.0.10)\n",
      "Requirement already satisfied: lxml>=4.5.1 in c:\\users\\adgru\\appdata\\local\\packages\\pythonsoftwarefoundation.python.3.9_qbz5n2kfra8p0\\localcache\\local-packages\\python39\\site-packages (from yfinance->-r requirements.txt (line 4)) (4.7.1)\n",
      "Requirement already satisfied: requests>=2.26 in c:\\users\\adgru\\appdata\\local\\packages\\pythonsoftwarefoundation.python.3.9_qbz5n2kfra8p0\\localcache\\local-packages\\python39\\site-packages (from yfinance->-r requirements.txt (line 4)) (2.27.1)\n",
      "Requirement already satisfied: beautifulsoup4 in c:\\users\\adgru\\appdata\\local\\packages\\pythonsoftwarefoundation.python.3.9_qbz5n2kfra8p0\\localcache\\local-packages\\python39\\site-packages (from yahoofinancials->-r requirements.txt (line 5)) (4.10.0)\n",
      "Requirement already satisfied: simplejson in c:\\users\\adgru\\appdata\\local\\packages\\pythonsoftwarefoundation.python.3.9_qbz5n2kfra8p0\\localcache\\local-packages\\python39\\site-packages (from forex-python->-r requirements.txt (line 7)) (3.17.6)\n",
      "Requirement already satisfied: colorama in c:\\users\\adgru\\appdata\\local\\packages\\pythonsoftwarefoundation.python.3.9_qbz5n2kfra8p0\\localcache\\local-packages\\python39\\site-packages (from tqdm->-r requirements.txt (line 8)) (0.4.4)\n",
      "Requirement already satisfied: ipykernel>=4.5.1 in c:\\users\\adgru\\appdata\\local\\packages\\pythonsoftwarefoundation.python.3.9_qbz5n2kfra8p0\\localcache\\local-packages\\python39\\site-packages (from ipywidgets->-r requirements.txt (line 9)) (6.0.3)\n",
      "Requirement already satisfied: ipython-genutils~=0.2.0 in c:\\users\\adgru\\appdata\\local\\packages\\pythonsoftwarefoundation.python.3.9_qbz5n2kfra8p0\\localcache\\local-packages\\python39\\site-packages (from ipywidgets->-r requirements.txt (line 9)) (0.2.0)\n",
      "Requirement already satisfied: traitlets>=4.3.1 in c:\\users\\adgru\\appdata\\local\\packages\\pythonsoftwarefoundation.python.3.9_qbz5n2kfra8p0\\localcache\\local-packages\\python39\\site-packages (from ipywidgets->-r requirements.txt (line 9)) (5.0.5)\n",
      "Collecting jupyterlab-widgets>=1.0.0\n",
      "  Downloading jupyterlab_widgets-1.0.2-py3-none-any.whl (243 kB)\n",
      "Requirement already satisfied: ipython>=4.0.0 in c:\\users\\adgru\\appdata\\local\\packages\\pythonsoftwarefoundation.python.3.9_qbz5n2kfra8p0\\localcache\\local-packages\\python39\\site-packages (from ipywidgets->-r requirements.txt (line 9)) (7.26.0)\n",
      "Requirement already satisfied: nbformat>=4.2.0 in c:\\users\\adgru\\appdata\\local\\packages\\pythonsoftwarefoundation.python.3.9_qbz5n2kfra8p0\\localcache\\local-packages\\python39\\site-packages (from ipywidgets->-r requirements.txt (line 9)) (5.1.3)\n",
      "Collecting widgetsnbextension~=3.5.0\n",
      "  Downloading widgetsnbextension-3.5.2-py2.py3-none-any.whl (1.6 MB)\n",
      "Requirement already satisfied: six in c:\\users\\adgru\\appdata\\local\\packages\\pythonsoftwarefoundation.python.3.9_qbz5n2kfra8p0\\localcache\\local-packages\\python39\\site-packages (from cycler>=0.10->matplotlib->-r requirements.txt (line 3)) (1.15.0)\n",
      "Requirement already satisfied: debugpy<2.0,>=1.0.0 in c:\\users\\adgru\\appdata\\local\\packages\\pythonsoftwarefoundation.python.3.9_qbz5n2kfra8p0\\localcache\\local-packages\\python39\\site-packages (from ipykernel>=4.5.1->ipywidgets->-r requirements.txt (line 9)) (1.4.1)\n",
      "Requirement already satisfied: matplotlib-inline<0.2.0,>=0.1.0 in c:\\users\\adgru\\appdata\\local\\packages\\pythonsoftwarefoundation.python.3.9_qbz5n2kfra8p0\\localcache\\local-packages\\python39\\site-packages (from ipykernel>=4.5.1->ipywidgets->-r requirements.txt (line 9)) (0.1.2)\n",
      "Requirement already satisfied: tornado<7.0,>=4.2 in c:\\users\\adgru\\appdata\\local\\packages\\pythonsoftwarefoundation.python.3.9_qbz5n2kfra8p0\\localcache\\local-packages\\python39\\site-packages (from ipykernel>=4.5.1->ipywidgets->-r requirements.txt (line 9)) (6.1)\n",
      "Requirement already satisfied: jupyter-client<7.0 in c:\\users\\adgru\\appdata\\local\\packages\\pythonsoftwarefoundation.python.3.9_qbz5n2kfra8p0\\localcache\\local-packages\\python39\\site-packages (from ipykernel>=4.5.1->ipywidgets->-r requirements.txt (line 9)) (6.1.12)\n",
      "Requirement already satisfied: decorator in c:\\users\\adgru\\appdata\\local\\packages\\pythonsoftwarefoundation.python.3.9_qbz5n2kfra8p0\\localcache\\local-packages\\python39\\site-packages (from ipython>=4.0.0->ipywidgets->-r requirements.txt (line 9)) (5.0.9)\n",
      "Requirement already satisfied: prompt-toolkit!=3.0.0,!=3.0.1,<3.1.0,>=2.0.0 in c:\\users\\adgru\\appdata\\local\\packages\\pythonsoftwarefoundation.python.3.9_qbz5n2kfra8p0\\localcache\\local-packages\\python39\\site-packages (from ipython>=4.0.0->ipywidgets->-r requirements.txt (line 9)) (3.0.19)\n",
      "Requirement already satisfied: pickleshare in c:\\users\\adgru\\appdata\\local\\packages\\pythonsoftwarefoundation.python.3.9_qbz5n2kfra8p0\\localcache\\local-packages\\python39\\site-packages (from ipython>=4.0.0->ipywidgets->-r requirements.txt (line 9)) (0.7.5)\n",
      "Requirement already satisfied: jedi>=0.16 in c:\\users\\adgru\\appdata\\local\\packages\\pythonsoftwarefoundation.python.3.9_qbz5n2kfra8p0\\localcache\\local-packages\\python39\\site-packages (from ipython>=4.0.0->ipywidgets->-r requirements.txt (line 9)) (0.18.0)\n",
      "Requirement already satisfied: pygments in c:\\users\\adgru\\appdata\\local\\packages\\pythonsoftwarefoundation.python.3.9_qbz5n2kfra8p0\\localcache\\local-packages\\python39\\site-packages (from ipython>=4.0.0->ipywidgets->-r requirements.txt (line 9)) (2.11.2)\n",
      "Requirement already satisfied: setuptools>=18.5 in c:\\program files\\windowsapps\\pythonsoftwarefoundation.python.3.9_3.9.2800.0_x64__qbz5n2kfra8p0\\lib\\site-packages (from ipython>=4.0.0->ipywidgets->-r requirements.txt (line 9)) (58.1.0)\n",
      "Requirement already satisfied: backcall in c:\\users\\adgru\\appdata\\local\\packages\\pythonsoftwarefoundation.python.3.9_qbz5n2kfra8p0\\localcache\\local-packages\\python39\\site-packages (from ipython>=4.0.0->ipywidgets->-r requirements.txt (line 9)) (0.2.0)\n",
      "Requirement already satisfied: jupyter-core in c:\\users\\adgru\\appdata\\local\\packages\\pythonsoftwarefoundation.python.3.9_qbz5n2kfra8p0\\localcache\\local-packages\\python39\\site-packages (from nbformat>=4.2.0->ipywidgets->-r requirements.txt (line 9)) (4.7.1)\n",
      "Requirement already satisfied: jsonschema!=2.5.0,>=2.4 in c:\\users\\adgru\\appdata\\local\\packages\\pythonsoftwarefoundation.python.3.9_qbz5n2kfra8p0\\localcache\\local-packages\\python39\\site-packages (from nbformat>=4.2.0->ipywidgets->-r requirements.txt (line 9)) (3.2.0)\n",
      "Requirement already satisfied: urllib3<1.27,>=1.21.1 in c:\\users\\adgru\\appdata\\local\\packages\\pythonsoftwarefoundation.python.3.9_qbz5n2kfra8p0\\localcache\\local-packages\\python39\\site-packages (from requests>=2.26->yfinance->-r requirements.txt (line 4)) (1.26.5)\n",
      "Requirement already satisfied: charset-normalizer~=2.0.0 in c:\\users\\adgru\\appdata\\local\\packages\\pythonsoftwarefoundation.python.3.9_qbz5n2kfra8p0\\localcache\\local-packages\\python39\\site-packages (from requests>=2.26->yfinance->-r requirements.txt (line 4)) (2.0.4)\n",
      "Requirement already satisfied: certifi>=2017.4.17 in c:\\users\\adgru\\appdata\\local\\packages\\pythonsoftwarefoundation.python.3.9_qbz5n2kfra8p0\\localcache\\local-packages\\python39\\site-packages (from requests>=2.26->yfinance->-r requirements.txt (line 4)) (2020.12.5)\n",
      "Requirement already satisfied: idna<4,>=2.5 in c:\\users\\adgru\\appdata\\local\\packages\\pythonsoftwarefoundation.python.3.9_qbz5n2kfra8p0\\localcache\\local-packages\\python39\\site-packages (from requests>=2.26->yfinance->-r requirements.txt (line 4)) (2.10)\n",
      "Collecting notebook>=4.4.1\n",
      "  Downloading notebook-6.4.8-py3-none-any.whl (9.9 MB)\n",
      "Requirement already satisfied: soupsieve>1.2 in c:\\users\\adgru\\appdata\\local\\packages\\pythonsoftwarefoundation.python.3.9_qbz5n2kfra8p0\\localcache\\local-packages\\python39\\site-packages (from beautifulsoup4->yahoofinancials->-r requirements.txt (line 5)) (2.2.1)\n",
      "Requirement already satisfied: parso<0.9.0,>=0.8.0 in c:\\users\\adgru\\appdata\\local\\packages\\pythonsoftwarefoundation.python.3.9_qbz5n2kfra8p0\\localcache\\local-packages\\python39\\site-packages (from jedi>=0.16->ipython>=4.0.0->ipywidgets->-r requirements.txt (line 9)) (0.8.2)\n",
      "Requirement already satisfied: attrs>=17.4.0 in c:\\users\\adgru\\appdata\\local\\packages\\pythonsoftwarefoundation.python.3.9_qbz5n2kfra8p0\\localcache\\local-packages\\python39\\site-packages (from jsonschema!=2.5.0,>=2.4->nbformat>=4.2.0->ipywidgets->-r requirements.txt (line 9)) (21.2.0)\n",
      "Requirement already satisfied: pyrsistent>=0.14.0 in c:\\users\\adgru\\appdata\\local\\packages\\pythonsoftwarefoundation.python.3.9_qbz5n2kfra8p0\\localcache\\local-packages\\python39\\site-packages (from jsonschema!=2.5.0,>=2.4->nbformat>=4.2.0->ipywidgets->-r requirements.txt (line 9)) (0.18.0)\n",
      "Requirement already satisfied: pyzmq>=13 in c:\\users\\adgru\\appdata\\local\\packages\\pythonsoftwarefoundation.python.3.9_qbz5n2kfra8p0\\localcache\\local-packages\\python39\\site-packages (from jupyter-client<7.0->ipykernel>=4.5.1->ipywidgets->-r requirements.txt (line 9)) (22.2.1)\n",
      "Requirement already satisfied: pywin32>=1.0 in c:\\users\\adgru\\appdata\\local\\packages\\pythonsoftwarefoundation.python.3.9_qbz5n2kfra8p0\\localcache\\local-packages\\python39\\site-packages (from jupyter-core->nbformat>=4.2.0->ipywidgets->-r requirements.txt (line 9)) (301)\n",
      "Collecting Send2Trash>=1.8.0\n",
      "  Downloading Send2Trash-1.8.0-py3-none-any.whl (18 kB)\n",
      "Requirement already satisfied: nbconvert in c:\\users\\adgru\\appdata\\local\\packages\\pythonsoftwarefoundation.python.3.9_qbz5n2kfra8p0\\localcache\\local-packages\\python39\\site-packages (from notebook>=4.4.1->widgetsnbextension~=3.5.0->ipywidgets->-r requirements.txt (line 9)) (6.1.0)\n",
      "Collecting argon2-cffi\n"
     ]
    },
    {
     "name": "stderr",
     "output_type": "stream",
     "text": [
      "  WARNING: The script send2trash.exe is installed in 'C:\\Users\\adgru\\AppData\\Local\\Packages\\PythonSoftwareFoundation.Python.3.9_qbz5n2kfra8p0\\LocalCache\\local-packages\\Python39\\Scripts' which is not on PATH.\n",
      "  Consider adding this directory to PATH or, if you prefer to suppress this warning, use --no-warn-script-location.\n",
      "  WARNING: The scripts jupyter-bundlerextension.exe, jupyter-nbextension.exe, jupyter-notebook.exe and jupyter-serverextension.exe are installed in 'C:\\Users\\adgru\\AppData\\Local\\Packages\\PythonSoftwareFoundation.Python.3.9_qbz5n2kfra8p0\\LocalCache\\local-packages\\Python39\\Scripts' which is not on PATH.\n",
      "  Consider adding this directory to PATH or, if you prefer to suppress this warning, use --no-warn-script-location.\n"
     ]
    },
    {
     "name": "stdout",
     "output_type": "stream",
     "text": [
      "  Downloading argon2_cffi-21.3.0-py3-none-any.whl (14 kB)\n",
      "Collecting prometheus-client\n",
      "  Downloading prometheus_client-0.13.1-py3-none-any.whl (57 kB)\n",
      "Requirement already satisfied: jinja2 in c:\\users\\adgru\\appdata\\local\\packages\\pythonsoftwarefoundation.python.3.9_qbz5n2kfra8p0\\localcache\\local-packages\\python39\\site-packages (from notebook>=4.4.1->widgetsnbextension~=3.5.0->ipywidgets->-r requirements.txt (line 9)) (2.11.3)\n",
      "Requirement already satisfied: nest-asyncio>=1.5 in c:\\users\\adgru\\appdata\\local\\packages\\pythonsoftwarefoundation.python.3.9_qbz5n2kfra8p0\\localcache\\local-packages\\python39\\site-packages (from notebook>=4.4.1->widgetsnbextension~=3.5.0->ipywidgets->-r requirements.txt (line 9)) (1.5.1)\n",
      "Collecting terminado>=0.8.3\n",
      "  Downloading terminado-0.13.1-py3-none-any.whl (14 kB)\n",
      "Requirement already satisfied: wcwidth in c:\\users\\adgru\\appdata\\local\\packages\\pythonsoftwarefoundation.python.3.9_qbz5n2kfra8p0\\localcache\\local-packages\\python39\\site-packages (from prompt-toolkit!=3.0.0,!=3.0.1,<3.1.0,>=2.0.0->ipython>=4.0.0->ipywidgets->-r requirements.txt (line 9)) (0.2.5)\n",
      "Collecting pywinpty>=1.1.0\n",
      "  Downloading pywinpty-2.0.1-cp39-none-win_amd64.whl (1.4 MB)\n",
      "Collecting argon2-cffi-bindings\n",
      "  Downloading argon2_cffi_bindings-21.2.0-cp36-abi3-win_amd64.whl (30 kB)\n",
      "Requirement already satisfied: MarkupSafe>=0.23 in c:\\users\\adgru\\appdata\\local\\packages\\pythonsoftwarefoundation.python.3.9_qbz5n2kfra8p0\\localcache\\local-packages\\python39\\site-packages (from jinja2->notebook>=4.4.1->widgetsnbextension~=3.5.0->ipywidgets->-r requirements.txt (line 9)) (1.1.1)\n",
      "Requirement already satisfied: bleach in c:\\users\\adgru\\appdata\\local\\packages\\pythonsoftwarefoundation.python.3.9_qbz5n2kfra8p0\\localcache\\local-packages\\python39\\site-packages (from nbconvert->notebook>=4.4.1->widgetsnbextension~=3.5.0->ipywidgets->-r requirements.txt (line 9)) (4.0.0)\n",
      "Requirement already satisfied: testpath in c:\\users\\adgru\\appdata\\local\\packages\\pythonsoftwarefoundation.python.3.9_qbz5n2kfra8p0\\localcache\\local-packages\\python39\\site-packages (from nbconvert->notebook>=4.4.1->widgetsnbextension~=3.5.0->ipywidgets->-r requirements.txt (line 9)) (0.5.0)\n",
      "Requirement already satisfied: defusedxml in c:\\users\\adgru\\appdata\\local\\packages\\pythonsoftwarefoundation.python.3.9_qbz5n2kfra8p0\\localcache\\local-packages\\python39\\site-packages (from nbconvert->notebook>=4.4.1->widgetsnbextension~=3.5.0->ipywidgets->-r requirements.txt (line 9)) (0.7.1)\n",
      "Requirement already satisfied: nbclient<0.6.0,>=0.5.0 in c:\\users\\adgru\\appdata\\local\\packages\\pythonsoftwarefoundation.python.3.9_qbz5n2kfra8p0\\localcache\\local-packages\\python39\\site-packages (from nbconvert->notebook>=4.4.1->widgetsnbextension~=3.5.0->ipywidgets->-r requirements.txt (line 9)) (0.5.3)\n",
      "Requirement already satisfied: mistune<2,>=0.8.1 in c:\\users\\adgru\\appdata\\local\\packages\\pythonsoftwarefoundation.python.3.9_qbz5n2kfra8p0\\localcache\\local-packages\\python39\\site-packages (from nbconvert->notebook>=4.4.1->widgetsnbextension~=3.5.0->ipywidgets->-r requirements.txt (line 9)) (0.8.4)\n",
      "Requirement already satisfied: pandocfilters>=1.4.1 in c:\\users\\adgru\\appdata\\local\\packages\\pythonsoftwarefoundation.python.3.9_qbz5n2kfra8p0\\localcache\\local-packages\\python39\\site-packages (from nbconvert->notebook>=4.4.1->widgetsnbextension~=3.5.0->ipywidgets->-r requirements.txt (line 9)) (1.4.3)\n",
      "Requirement already satisfied: jupyterlab-pygments in c:\\users\\adgru\\appdata\\local\\packages\\pythonsoftwarefoundation.python.3.9_qbz5n2kfra8p0\\localcache\\local-packages\\python39\\site-packages (from nbconvert->notebook>=4.4.1->widgetsnbextension~=3.5.0->ipywidgets->-r requirements.txt (line 9)) (0.1.2)\n",
      "Requirement already satisfied: entrypoints>=0.2.2 in c:\\users\\adgru\\appdata\\local\\packages\\pythonsoftwarefoundation.python.3.9_qbz5n2kfra8p0\\localcache\\local-packages\\python39\\site-packages (from nbconvert->notebook>=4.4.1->widgetsnbextension~=3.5.0->ipywidgets->-r requirements.txt (line 9)) (0.3)\n",
      "Requirement already satisfied: async-generator in c:\\users\\adgru\\appdata\\local\\packages\\pythonsoftwarefoundation.python.3.9_qbz5n2kfra8p0\\localcache\\local-packages\\python39\\site-packages (from nbclient<0.6.0,>=0.5.0->nbconvert->notebook>=4.4.1->widgetsnbextension~=3.5.0->ipywidgets->-r requirements.txt (line 9)) (1.10)\n",
      "Collecting cffi>=1.0.1\n",
      "  Downloading cffi-1.15.0-cp39-cp39-win_amd64.whl (180 kB)\n",
      "Requirement already satisfied: packaging in c:\\users\\adgru\\appdata\\local\\packages\\pythonsoftwarefoundation.python.3.9_qbz5n2kfra8p0\\localcache\\local-packages\\python39\\site-packages (from bleach->nbconvert->notebook>=4.4.1->widgetsnbextension~=3.5.0->ipywidgets->-r requirements.txt (line 9)) (21.0)\n",
      "Requirement already satisfied: webencodings in c:\\users\\adgru\\appdata\\local\\packages\\pythonsoftwarefoundation.python.3.9_qbz5n2kfra8p0\\localcache\\local-packages\\python39\\site-packages (from bleach->nbconvert->notebook>=4.4.1->widgetsnbextension~=3.5.0->ipywidgets->-r requirements.txt (line 9)) (0.5.1)\n",
      "Collecting pycparser\n",
      "  Downloading pycparser-2.21-py2.py3-none-any.whl (118 kB)\n",
      "Installing collected packages: pycparser, cffi, pywinpty, argon2-cffi-bindings, terminado, Send2Trash, prometheus-client, argon2-cffi, notebook, widgetsnbextension, jupyterlab-widgets, ipywidgets\n",
      "Successfully installed Send2Trash-1.8.0 argon2-cffi-21.3.0 argon2-cffi-bindings-21.2.0 cffi-1.15.0 ipywidgets-7.6.5 jupyterlab-widgets-1.0.2 notebook-6.4.8 prometheus-client-0.13.1 pycparser-2.21 pywinpty-2.0.1 terminado-0.13.1 widgetsnbextension-3.5.2\n"
     ]
    }
   ],
   "source": [
    "!pip install -r requirements.txt"
   ]
  },
  {
   "cell_type": "markdown",
   "metadata": {},
   "source": [
    "### Importing Modules"
   ]
  },
  {
   "cell_type": "code",
   "execution_count": 20,
   "metadata": {},
   "outputs": [],
   "source": [
    "import pandas as pd\n",
    "import yfinance as yf\n",
    "from yahoofinancials import YahooFinancials\n",
    "import pandas as pd\n",
    "import numpy as np\n",
    "from forex_python.converter import CurrencyRates\n",
    "import os, sys"
   ]
  },
  {
   "cell_type": "markdown",
   "metadata": {},
   "source": [
    "### Reading JSECode for Stonk"
   ]
  },
  {
   "cell_type": "code",
   "execution_count": 2,
   "metadata": {},
   "outputs": [
    {
     "data": {
      "text/html": [
       "<div>\n",
       "<style scoped>\n",
       "    .dataframe tbody tr th:only-of-type {\n",
       "        vertical-align: middle;\n",
       "    }\n",
       "\n",
       "    .dataframe tbody tr th {\n",
       "        vertical-align: top;\n",
       "    }\n",
       "\n",
       "    .dataframe thead th {\n",
       "        text-align: right;\n",
       "    }\n",
       "</style>\n",
       "<table border=\"1\" class=\"dataframe\">\n",
       "  <thead>\n",
       "    <tr style=\"text-align: right;\">\n",
       "      <th></th>\n",
       "      <th>Code</th>\n",
       "      <th>Company</th>\n",
       "    </tr>\n",
       "  </thead>\n",
       "  <tbody>\n",
       "    <tr>\n",
       "      <th>0</th>\n",
       "      <td>PRX</td>\n",
       "      <td>Prosus N.V.</td>\n",
       "    </tr>\n",
       "    <tr>\n",
       "      <th>1</th>\n",
       "      <td>ANH</td>\n",
       "      <td>Anheuser-Busch Inbev</td>\n",
       "    </tr>\n",
       "    <tr>\n",
       "      <th>2</th>\n",
       "      <td>BTI</td>\n",
       "      <td>British American Tobacco</td>\n",
       "    </tr>\n",
       "    <tr>\n",
       "      <th>3</th>\n",
       "      <td>GLN</td>\n",
       "      <td>Glencore plc</td>\n",
       "    </tr>\n",
       "    <tr>\n",
       "      <th>4</th>\n",
       "      <td>CFR</td>\n",
       "      <td>Compagnie Fin Richemont</td>\n",
       "    </tr>\n",
       "    <tr>\n",
       "      <th>...</th>\n",
       "      <td>...</td>\n",
       "      <td>...</td>\n",
       "    </tr>\n",
       "    <tr>\n",
       "      <th>337</th>\n",
       "      <td>IDQ</td>\n",
       "      <td>Indequity Group Limited</td>\n",
       "    </tr>\n",
       "    <tr>\n",
       "      <th>338</th>\n",
       "      <td>KDV</td>\n",
       "      <td>Kaydav Group Limited</td>\n",
       "    </tr>\n",
       "    <tr>\n",
       "      <th>339</th>\n",
       "      <td>MZR</td>\n",
       "      <td>Mazor Group Limited</td>\n",
       "    </tr>\n",
       "    <tr>\n",
       "      <th>340</th>\n",
       "      <td>MLE</td>\n",
       "      <td>Mettle Investments Limited</td>\n",
       "    </tr>\n",
       "    <tr>\n",
       "      <th>341</th>\n",
       "      <td>MNK</td>\n",
       "      <td>Montauk Holdings Limited</td>\n",
       "    </tr>\n",
       "  </tbody>\n",
       "</table>\n",
       "<p>342 rows × 2 columns</p>\n",
       "</div>"
      ],
      "text/plain": [
       "    Code                      Company\n",
       "0    PRX                 Prosus N.V. \n",
       "1    ANH        Anheuser-Busch Inbev \n",
       "2    BTI    British American Tobacco \n",
       "3    GLN                Glencore plc \n",
       "4    CFR     Compagnie Fin Richemont \n",
       "..   ...                          ...\n",
       "337  IDQ     Indequity Group Limited \n",
       "338  KDV        Kaydav Group Limited \n",
       "339  MZR         Mazor Group Limited \n",
       "340  MLE  Mettle Investments Limited \n",
       "341  MNK    Montauk Holdings Limited \n",
       "\n",
       "[342 rows x 2 columns]"
      ]
     },
     "execution_count": 2,
     "metadata": {},
     "output_type": "execute_result"
    }
   ],
   "source": [
    "StonkCodes = pd.read_csv('StonkCodes.csv')\n",
    "StonkCodes"
   ]
  },
  {
   "cell_type": "markdown",
   "metadata": {},
   "source": [
    "### App Functions"
   ]
  },
  {
   "cell_type": "code",
   "execution_count": 18,
   "metadata": {},
   "outputs": [],
   "source": [
    "class HiddenPrints:\n",
    "    def __enter__(self):\n",
    "        self._original_stdout = sys.stdout\n",
    "        sys.stdout = open(os.devnull, 'w')\n",
    "\n",
    "    def __exit__(self, exc_type, exc_val, exc_tb):\n",
    "        sys.stdout.close()\n",
    "        sys.stdout = self._original_stdout\n",
    "\n",
    "def GetUSDtoZAR():\n",
    "    c = CurrencyRates()\n",
    "    return c.convert('USD', 'ZAR', 1)\n",
    "    \n",
    "def GetStockHistory(Code):\n",
    "    df = yf.download(Code)\n",
    "    USDtoZAR = GetUSDtoZAR()\n",
    "    for i, row in df.iterrows():\n",
    "        df.at[i,'Open'] = (row['Open'] * USDtoZAR)\n",
    "        df.at[i,'High'] = (row['High'] * USDtoZAR)\n",
    "        df.at[i,'Low'] = (row['Low'] * USDtoZAR)\n",
    "        df.at[i,'Close'] = (row['Close'] * USDtoZAR)\n",
    "        df.at[i,'Adj Close'] = (row['Adj Close'] * USDtoZAR)\n",
    "    return df\n",
    "\n",
    "def EvaluateStock(StockCode):\n",
    "    with HiddenPrints():\n",
    "       data = GetStockHistory(StockCode)\n",
    "    min = data['Close'].min()\n",
    "    max = data['Close'].max()\n",
    "    current = data['Close'].iloc[-1]\n",
    "    return ('Could achieve '+str(round((1- (current/max)) * 100, 2)) + '% Growth from ' + str(current) + ' ZAR per share to ' + str(max) + ' ZAR per share')\n"
   ]
  },
  {
   "cell_type": "code",
   "execution_count": 19,
   "metadata": {},
   "outputs": [
    {
     "data": {
      "text/plain": [
       "'Could achieve 6.42% Growth from 2658.5427220612205 ZAR per share to 2840.8462457394853 ZAR per share'"
      ]
     },
     "execution_count": 19,
     "metadata": {},
     "output_type": "execute_result"
    }
   ],
   "source": [
    "EvaluateStock('AAPL')"
   ]
  }
 ],
 "metadata": {
  "interpreter": {
   "hash": "3c5e62c22b15a649a0ef82ba1642c8d242063c96ec794d0d64bb4d1890e0fb9e"
  },
  "kernelspec": {
   "display_name": "Python 3.9.9 64-bit (windows store)",
   "language": "python",
   "name": "python3"
  },
  "language_info": {
   "codemirror_mode": {
    "name": "ipython",
    "version": 3
   },
   "file_extension": ".py",
   "mimetype": "text/x-python",
   "name": "python",
   "nbconvert_exporter": "python",
   "pygments_lexer": "ipython3",
   "version": "3.9.10"
  },
  "orig_nbformat": 4
 },
 "nbformat": 4,
 "nbformat_minor": 2
}
