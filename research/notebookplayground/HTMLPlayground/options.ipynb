{
 "cells": [
  {
   "cell_type": "code",
   "execution_count": 9,
   "metadata": {},
   "outputs": [],
   "source": [
    "import pandas as pd\n",
    "\n",
    "jsestonks = pd.read_csv('StonkCodes.csv')\n",
    "jsestonksoptions = []\n",
    "for i, row in jsestonks.iterrows():\n",
    "    jsestonksoptions.append({'label': row['Company'], 'value': row['Code']})"
   ]
  }
 ],
 "metadata": {
  "interpreter": {
   "hash": "3c5e62c22b15a649a0ef82ba1642c8d242063c96ec794d0d64bb4d1890e0fb9e"
  },
  "kernelspec": {
   "display_name": "Python 3.9.10 64-bit (windows store)",
   "language": "python",
   "name": "python3"
  },
  "language_info": {
   "codemirror_mode": {
    "name": "ipython",
    "version": 3
   },
   "file_extension": ".py",
   "mimetype": "text/x-python",
   "name": "python",
   "nbconvert_exporter": "python",
   "pygments_lexer": "ipython3",
   "version": "3.9.10"
  },
  "orig_nbformat": 4
 },
 "nbformat": 4,
 "nbformat_minor": 2
}
