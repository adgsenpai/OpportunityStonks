{
 "cells": [
  {
   "cell_type": "markdown",
   "metadata": {},
   "source": [
    "## Extracting JSE Code Stonks"
   ]
  },
  {
   "cell_type": "markdown",
   "metadata": {},
   "source": [
    "### Installing Modules"
   ]
  },
  {
   "cell_type": "code",
   "execution_count": 5,
   "metadata": {},
   "outputs": [
    {
     "name": "stdout",
     "output_type": "stream",
     "text": [
      "Requirement already satisfied: pandas in c:\\users\\adgru\\appdata\\local\\packages\\pythonsoftwarefoundation.python.3.9_qbz5n2kfra8p0\\localcache\\local-packages\\python39\\site-packages (from -r requirements.txt (line 1)) (1.3.1)\n",
      "Requirement already satisfied: numpy in c:\\users\\adgru\\appdata\\local\\packages\\pythonsoftwarefoundation.python.3.9_qbz5n2kfra8p0\\localcache\\local-packages\\python39\\site-packages (from -r requirements.txt (line 2)) (1.21.1)\n",
      "Requirement already satisfied: matplotlib in c:\\users\\adgru\\appdata\\local\\packages\\pythonsoftwarefoundation.python.3.9_qbz5n2kfra8p0\\localcache\\local-packages\\python39\\site-packages (from -r requirements.txt (line 3)) (3.4.3)\n",
      "Requirement already satisfied: yfinance in c:\\users\\adgru\\appdata\\local\\packages\\pythonsoftwarefoundation.python.3.9_qbz5n2kfra8p0\\localcache\\local-packages\\python39\\site-packages (from -r requirements.txt (line 4)) (0.1.69)\n",
      "Requirement already satisfied: yahoofinancials in c:\\users\\adgru\\appdata\\local\\packages\\pythonsoftwarefoundation.python.3.9_qbz5n2kfra8p0\\localcache\\local-packages\\python39\\site-packages (from -r requirements.txt (line 5)) (1.6)\n",
      "Collecting wget\n",
      "  Downloading wget-3.2.zip (10 kB)\n",
      "  Preparing metadata (setup.py): started\n",
      "  Preparing metadata (setup.py): finished with status 'done'\n",
      "Requirement already satisfied: python-dateutil>=2.7.3 in c:\\users\\adgru\\appdata\\local\\packages\\pythonsoftwarefoundation.python.3.9_qbz5n2kfra8p0\\localcache\\local-packages\\python39\\site-packages (from pandas->-r requirements.txt (line 1)) (2.8.2)\n",
      "Requirement already satisfied: pytz>=2017.3 in c:\\users\\adgru\\appdata\\local\\packages\\pythonsoftwarefoundation.python.3.9_qbz5n2kfra8p0\\localcache\\local-packages\\python39\\site-packages (from pandas->-r requirements.txt (line 1)) (2021.1)\n",
      "Requirement already satisfied: pyparsing>=2.2.1 in c:\\users\\adgru\\appdata\\local\\packages\\pythonsoftwarefoundation.python.3.9_qbz5n2kfra8p0\\localcache\\local-packages\\python39\\site-packages (from matplotlib->-r requirements.txt (line 3)) (2.4.7)\n",
      "Requirement already satisfied: cycler>=0.10 in c:\\users\\adgru\\appdata\\local\\packages\\pythonsoftwarefoundation.python.3.9_qbz5n2kfra8p0\\localcache\\local-packages\\python39\\site-packages (from matplotlib->-r requirements.txt (line 3)) (0.10.0)\n",
      "Requirement already satisfied: kiwisolver>=1.0.1 in c:\\users\\adgru\\appdata\\local\\packages\\pythonsoftwarefoundation.python.3.9_qbz5n2kfra8p0\\localcache\\local-packages\\python39\\site-packages (from matplotlib->-r requirements.txt (line 3)) (1.3.2)\n",
      "Requirement already satisfied: pillow>=6.2.0 in c:\\users\\adgru\\appdata\\local\\packages\\pythonsoftwarefoundation.python.3.9_qbz5n2kfra8p0\\localcache\\local-packages\\python39\\site-packages (from matplotlib->-r requirements.txt (line 3)) (8.3.2)\n",
      "Requirement already satisfied: multitasking>=0.0.7 in c:\\users\\adgru\\appdata\\local\\packages\\pythonsoftwarefoundation.python.3.9_qbz5n2kfra8p0\\localcache\\local-packages\\python39\\site-packages (from yfinance->-r requirements.txt (line 4)) (0.0.10)\n",
      "Requirement already satisfied: lxml>=4.5.1 in c:\\users\\adgru\\appdata\\local\\packages\\pythonsoftwarefoundation.python.3.9_qbz5n2kfra8p0\\localcache\\local-packages\\python39\\site-packages (from yfinance->-r requirements.txt (line 4)) (4.7.1)\n",
      "Requirement already satisfied: requests>=2.26 in c:\\users\\adgru\\appdata\\local\\packages\\pythonsoftwarefoundation.python.3.9_qbz5n2kfra8p0\\localcache\\local-packages\\python39\\site-packages (from yfinance->-r requirements.txt (line 4)) (2.27.1)\n",
      "Requirement already satisfied: beautifulsoup4 in c:\\users\\adgru\\appdata\\local\\packages\\pythonsoftwarefoundation.python.3.9_qbz5n2kfra8p0\\localcache\\local-packages\\python39\\site-packages (from yahoofinancials->-r requirements.txt (line 5)) (4.10.0)\n",
      "Requirement already satisfied: six in c:\\users\\adgru\\appdata\\local\\packages\\pythonsoftwarefoundation.python.3.9_qbz5n2kfra8p0\\localcache\\local-packages\\python39\\site-packages (from cycler>=0.10->matplotlib->-r requirements.txt (line 3)) (1.15.0)\n",
      "Requirement already satisfied: urllib3<1.27,>=1.21.1 in c:\\users\\adgru\\appdata\\local\\packages\\pythonsoftwarefoundation.python.3.9_qbz5n2kfra8p0\\localcache\\local-packages\\python39\\site-packages (from requests>=2.26->yfinance->-r requirements.txt (line 4)) (1.26.5)\n",
      "Requirement already satisfied: charset-normalizer~=2.0.0 in c:\\users\\adgru\\appdata\\local\\packages\\pythonsoftwarefoundation.python.3.9_qbz5n2kfra8p0\\localcache\\local-packages\\python39\\site-packages (from requests>=2.26->yfinance->-r requirements.txt (line 4)) (2.0.4)\n",
      "Requirement already satisfied: idna<4,>=2.5 in c:\\users\\adgru\\appdata\\local\\packages\\pythonsoftwarefoundation.python.3.9_qbz5n2kfra8p0\\localcache\\local-packages\\python39\\site-packages (from requests>=2.26->yfinance->-r requirements.txt (line 4)) (2.10)\n",
      "Requirement already satisfied: certifi>=2017.4.17 in c:\\users\\adgru\\appdata\\local\\packages\\pythonsoftwarefoundation.python.3.9_qbz5n2kfra8p0\\localcache\\local-packages\\python39\\site-packages (from requests>=2.26->yfinance->-r requirements.txt (line 4)) (2020.12.5)\n",
      "Requirement already satisfied: soupsieve>1.2 in c:\\users\\adgru\\appdata\\local\\packages\\pythonsoftwarefoundation.python.3.9_qbz5n2kfra8p0\\localcache\\local-packages\\python39\\site-packages (from beautifulsoup4->yahoofinancials->-r requirements.txt (line 5)) (2.2.1)\n",
      "Using legacy 'setup.py install' for wget, since package 'wheel' is not installed.\n",
      "Installing collected packages: wget\n",
      "    Running setup.py install for wget: started\n",
      "    Running setup.py install for wget: finished with status 'done'\n",
      "Successfully installed wget-3.2\n"
     ]
    }
   ],
   "source": [
    "!pip install -r requirements.txt"
   ]
  },
  {
   "cell_type": "markdown",
   "metadata": {},
   "source": [
    "### Importing Modules"
   ]
  },
  {
   "cell_type": "code",
   "execution_count": 33,
   "metadata": {},
   "outputs": [],
   "source": [
    "import pandas as pd\n",
    "import yfinance as yf\n",
    "from yahoofinancials import YahooFinancials\n",
    "import pandas as pd\n",
    "import numpy as np"
   ]
  },
  {
   "cell_type": "markdown",
   "metadata": {},
   "source": [
    "### Downloading JSE Stonks Metadata"
   ]
  },
  {
   "cell_type": "code",
   "execution_count": 6,
   "metadata": {},
   "outputs": [
    {
     "data": {
      "text/plain": [
       "'companies-list.csv'"
      ]
     },
     "execution_count": 6,
     "metadata": {},
     "output_type": "execute_result"
    }
   ],
   "source": [
    "import wget\n",
    "wget.download('https://www.listcorp.com/_api/services/discovery/download-companies-list?sortBy=market_capitalisation&descending=true&exchange=JSE&recentlyListedCompanies=false')"
   ]
  },
  {
   "cell_type": "markdown",
   "metadata": {},
   "source": [
    "### Reading CSV we downloaded"
   ]
  },
  {
   "cell_type": "code",
   "execution_count": 34,
   "metadata": {},
   "outputs": [
    {
     "data": {
      "text/html": [
       "<div>\n",
       "<style scoped>\n",
       "    .dataframe tbody tr th:only-of-type {\n",
       "        vertical-align: middle;\n",
       "    }\n",
       "\n",
       "    .dataframe tbody tr th {\n",
       "        vertical-align: top;\n",
       "    }\n",
       "\n",
       "    .dataframe thead th {\n",
       "        text-align: right;\n",
       "    }\n",
       "</style>\n",
       "<table border=\"1\" class=\"dataframe\">\n",
       "  <thead>\n",
       "    <tr style=\"text-align: right;\">\n",
       "      <th></th>\n",
       "      <th>Code</th>\n",
       "      <th>Company</th>\n",
       "      <th>Link</th>\n",
       "      <th>Market Cap</th>\n",
       "      <th>Last trade</th>\n",
       "      <th>Change</th>\n",
       "      <th>%Change</th>\n",
       "      <th>Sector</th>\n",
       "    </tr>\n",
       "  </thead>\n",
       "  <tbody>\n",
       "    <tr>\n",
       "      <th>0</th>\n",
       "      <td>JSE:PRX</td>\n",
       "      <td>Prosus N.V. (JSE:PRX)</td>\n",
       "      <td>https://www.listcorp.com/jse/prx/prosus-nv</td>\n",
       "      <td>2492540000000</td>\n",
       "      <td>1202.01</td>\n",
       "      <td>0.0</td>\n",
       "      <td>0.0</td>\n",
       "      <td>Technology</td>\n",
       "    </tr>\n",
       "    <tr>\n",
       "      <th>1</th>\n",
       "      <td>JSE:ANH</td>\n",
       "      <td>Anheuser-Busch Inbev (JSE:ANH)</td>\n",
       "      <td>https://www.listcorp.com/jse/anh/anheuser-busc...</td>\n",
       "      <td>1687560000000</td>\n",
       "      <td>971.44</td>\n",
       "      <td>0.0</td>\n",
       "      <td>0.0</td>\n",
       "      <td>Consumer Goods</td>\n",
       "    </tr>\n",
       "    <tr>\n",
       "      <th>2</th>\n",
       "      <td>JSE:BTI</td>\n",
       "      <td>British American Tobacco (JSE:BTI)</td>\n",
       "      <td>https://www.listcorp.com/jse/bti/british-ameri...</td>\n",
       "      <td>1626280000000</td>\n",
       "      <td>662.00</td>\n",
       "      <td>0.0</td>\n",
       "      <td>0.0</td>\n",
       "      <td>Consumer Goods</td>\n",
       "    </tr>\n",
       "    <tr>\n",
       "      <th>3</th>\n",
       "      <td>JSE:GLN</td>\n",
       "      <td>Glencore plc (JSE:GLN)</td>\n",
       "      <td>https://www.listcorp.com/jse/gln/glencore-plc</td>\n",
       "      <td>1199860000000</td>\n",
       "      <td>82.26</td>\n",
       "      <td>0.0</td>\n",
       "      <td>0.0</td>\n",
       "      <td>Basic Materials</td>\n",
       "    </tr>\n",
       "    <tr>\n",
       "      <th>4</th>\n",
       "      <td>JSE:CFR</td>\n",
       "      <td>Compagnie Fin Richemont (JSE:CFR)</td>\n",
       "      <td>https://www.listcorp.com/jse/cfr/compagnie-fin...</td>\n",
       "      <td>1131070000000</td>\n",
       "      <td>216.68</td>\n",
       "      <td>0.0</td>\n",
       "      <td>0.0</td>\n",
       "      <td>Consumer Goods</td>\n",
       "    </tr>\n",
       "  </tbody>\n",
       "</table>\n",
       "</div>"
      ],
      "text/plain": [
       "      Code                             Company  \\\n",
       "0  JSE:PRX               Prosus N.V. (JSE:PRX)   \n",
       "1  JSE:ANH      Anheuser-Busch Inbev (JSE:ANH)   \n",
       "2  JSE:BTI  British American Tobacco (JSE:BTI)   \n",
       "3  JSE:GLN              Glencore plc (JSE:GLN)   \n",
       "4  JSE:CFR   Compagnie Fin Richemont (JSE:CFR)   \n",
       "\n",
       "                                                Link     Market Cap  \\\n",
       "0         https://www.listcorp.com/jse/prx/prosus-nv  2492540000000   \n",
       "1  https://www.listcorp.com/jse/anh/anheuser-busc...  1687560000000   \n",
       "2  https://www.listcorp.com/jse/bti/british-ameri...  1626280000000   \n",
       "3      https://www.listcorp.com/jse/gln/glencore-plc  1199860000000   \n",
       "4  https://www.listcorp.com/jse/cfr/compagnie-fin...  1131070000000   \n",
       "\n",
       "   Last trade  Change  %Change           Sector  \n",
       "0     1202.01     0.0      0.0       Technology  \n",
       "1      971.44     0.0      0.0   Consumer Goods  \n",
       "2      662.00     0.0      0.0   Consumer Goods  \n",
       "3       82.26     0.0      0.0  Basic Materials  \n",
       "4      216.68     0.0      0.0   Consumer Goods  "
      ]
     },
     "execution_count": 34,
     "metadata": {},
     "output_type": "execute_result"
    }
   ],
   "source": [
    "stonks = pd.read_csv('companies-list.csv')\n",
    "stonks.head()"
   ]
  },
  {
   "cell_type": "markdown",
   "metadata": {},
   "source": [
    "### Extracting Codes for Yahoo API Usage"
   ]
  },
  {
   "cell_type": "code",
   "execution_count": 35,
   "metadata": {},
   "outputs": [
    {
     "data": {
      "text/html": [
       "<div>\n",
       "<style scoped>\n",
       "    .dataframe tbody tr th:only-of-type {\n",
       "        vertical-align: middle;\n",
       "    }\n",
       "\n",
       "    .dataframe tbody tr th {\n",
       "        vertical-align: top;\n",
       "    }\n",
       "\n",
       "    .dataframe thead th {\n",
       "        text-align: right;\n",
       "    }\n",
       "</style>\n",
       "<table border=\"1\" class=\"dataframe\">\n",
       "  <thead>\n",
       "    <tr style=\"text-align: right;\">\n",
       "      <th></th>\n",
       "      <th>Code</th>\n",
       "      <th>Company</th>\n",
       "    </tr>\n",
       "  </thead>\n",
       "  <tbody>\n",
       "    <tr>\n",
       "      <th>0</th>\n",
       "      <td>JSE:PRX</td>\n",
       "      <td>Prosus N.V. (JSE:PRX)</td>\n",
       "    </tr>\n",
       "    <tr>\n",
       "      <th>1</th>\n",
       "      <td>JSE:ANH</td>\n",
       "      <td>Anheuser-Busch Inbev (JSE:ANH)</td>\n",
       "    </tr>\n",
       "    <tr>\n",
       "      <th>2</th>\n",
       "      <td>JSE:BTI</td>\n",
       "      <td>British American Tobacco (JSE:BTI)</td>\n",
       "    </tr>\n",
       "    <tr>\n",
       "      <th>3</th>\n",
       "      <td>JSE:GLN</td>\n",
       "      <td>Glencore plc (JSE:GLN)</td>\n",
       "    </tr>\n",
       "    <tr>\n",
       "      <th>4</th>\n",
       "      <td>JSE:CFR</td>\n",
       "      <td>Compagnie Fin Richemont (JSE:CFR)</td>\n",
       "    </tr>\n",
       "    <tr>\n",
       "      <th>...</th>\n",
       "      <td>...</td>\n",
       "      <td>...</td>\n",
       "    </tr>\n",
       "    <tr>\n",
       "      <th>337</th>\n",
       "      <td>JSE:IDQ</td>\n",
       "      <td>Indequity Group Limited (JSE:IDQ)</td>\n",
       "    </tr>\n",
       "    <tr>\n",
       "      <th>338</th>\n",
       "      <td>JSE:KDV</td>\n",
       "      <td>Kaydav Group Limited (JSE:KDV)</td>\n",
       "    </tr>\n",
       "    <tr>\n",
       "      <th>339</th>\n",
       "      <td>JSE:MZR</td>\n",
       "      <td>Mazor Group Limited (JSE:MZR)</td>\n",
       "    </tr>\n",
       "    <tr>\n",
       "      <th>340</th>\n",
       "      <td>JSE:MLE</td>\n",
       "      <td>Mettle Investments Limited (JSE:MLE)</td>\n",
       "    </tr>\n",
       "    <tr>\n",
       "      <th>341</th>\n",
       "      <td>JSE:MNK</td>\n",
       "      <td>Montauk Holdings Limited (JSE:MNK)</td>\n",
       "    </tr>\n",
       "  </tbody>\n",
       "</table>\n",
       "<p>342 rows × 2 columns</p>\n",
       "</div>"
      ],
      "text/plain": [
       "        Code                               Company\n",
       "0    JSE:PRX                 Prosus N.V. (JSE:PRX)\n",
       "1    JSE:ANH        Anheuser-Busch Inbev (JSE:ANH)\n",
       "2    JSE:BTI    British American Tobacco (JSE:BTI)\n",
       "3    JSE:GLN                Glencore plc (JSE:GLN)\n",
       "4    JSE:CFR     Compagnie Fin Richemont (JSE:CFR)\n",
       "..       ...                                   ...\n",
       "337  JSE:IDQ     Indequity Group Limited (JSE:IDQ)\n",
       "338  JSE:KDV        Kaydav Group Limited (JSE:KDV)\n",
       "339  JSE:MZR         Mazor Group Limited (JSE:MZR)\n",
       "340  JSE:MLE  Mettle Investments Limited (JSE:MLE)\n",
       "341  JSE:MNK    Montauk Holdings Limited (JSE:MNK)\n",
       "\n",
       "[342 rows x 2 columns]"
      ]
     },
     "execution_count": 35,
     "metadata": {},
     "output_type": "execute_result"
    }
   ],
   "source": [
    "StonkCodes = pd.concat([stonks['Code'],stonks['Company']],axis=1)\n",
    "StonkCodes"
   ]
  },
  {
   "cell_type": "markdown",
   "metadata": {},
   "source": [
    "### Cleaning Dataset"
   ]
  },
  {
   "cell_type": "code",
   "execution_count": 36,
   "metadata": {},
   "outputs": [
    {
     "data": {
      "text/html": [
       "<div>\n",
       "<style scoped>\n",
       "    .dataframe tbody tr th:only-of-type {\n",
       "        vertical-align: middle;\n",
       "    }\n",
       "\n",
       "    .dataframe tbody tr th {\n",
       "        vertical-align: top;\n",
       "    }\n",
       "\n",
       "    .dataframe thead th {\n",
       "        text-align: right;\n",
       "    }\n",
       "</style>\n",
       "<table border=\"1\" class=\"dataframe\">\n",
       "  <thead>\n",
       "    <tr style=\"text-align: right;\">\n",
       "      <th></th>\n",
       "      <th>Code</th>\n",
       "      <th>Company</th>\n",
       "    </tr>\n",
       "  </thead>\n",
       "  <tbody>\n",
       "    <tr>\n",
       "      <th>0</th>\n",
       "      <td>PRX</td>\n",
       "      <td>Prosus N.V.</td>\n",
       "    </tr>\n",
       "    <tr>\n",
       "      <th>1</th>\n",
       "      <td>ANH</td>\n",
       "      <td>Anheuser-Busch Inbev</td>\n",
       "    </tr>\n",
       "    <tr>\n",
       "      <th>2</th>\n",
       "      <td>BTI</td>\n",
       "      <td>British American Tobacco</td>\n",
       "    </tr>\n",
       "    <tr>\n",
       "      <th>3</th>\n",
       "      <td>GLN</td>\n",
       "      <td>Glencore plc</td>\n",
       "    </tr>\n",
       "    <tr>\n",
       "      <th>4</th>\n",
       "      <td>CFR</td>\n",
       "      <td>Compagnie Fin Richemont</td>\n",
       "    </tr>\n",
       "    <tr>\n",
       "      <th>...</th>\n",
       "      <td>...</td>\n",
       "      <td>...</td>\n",
       "    </tr>\n",
       "    <tr>\n",
       "      <th>337</th>\n",
       "      <td>IDQ</td>\n",
       "      <td>Indequity Group Limited</td>\n",
       "    </tr>\n",
       "    <tr>\n",
       "      <th>338</th>\n",
       "      <td>KDV</td>\n",
       "      <td>Kaydav Group Limited</td>\n",
       "    </tr>\n",
       "    <tr>\n",
       "      <th>339</th>\n",
       "      <td>MZR</td>\n",
       "      <td>Mazor Group Limited</td>\n",
       "    </tr>\n",
       "    <tr>\n",
       "      <th>340</th>\n",
       "      <td>MLE</td>\n",
       "      <td>Mettle Investments Limited</td>\n",
       "    </tr>\n",
       "    <tr>\n",
       "      <th>341</th>\n",
       "      <td>MNK</td>\n",
       "      <td>Montauk Holdings Limited</td>\n",
       "    </tr>\n",
       "  </tbody>\n",
       "</table>\n",
       "<p>342 rows × 2 columns</p>\n",
       "</div>"
      ],
      "text/plain": [
       "    Code                      Company\n",
       "0    PRX                 Prosus N.V. \n",
       "1    ANH        Anheuser-Busch Inbev \n",
       "2    BTI    British American Tobacco \n",
       "3    GLN                Glencore plc \n",
       "4    CFR     Compagnie Fin Richemont \n",
       "..   ...                          ...\n",
       "337  IDQ     Indequity Group Limited \n",
       "338  KDV        Kaydav Group Limited \n",
       "339  MZR         Mazor Group Limited \n",
       "340  MLE  Mettle Investments Limited \n",
       "341  MNK    Montauk Holdings Limited \n",
       "\n",
       "[342 rows x 2 columns]"
      ]
     },
     "execution_count": 36,
     "metadata": {},
     "output_type": "execute_result"
    }
   ],
   "source": [
    "for i, row in StonkCodes.iterrows():\n",
    "    StonkCodes.at[i,'Code'] = row['Code'].replace('JSE:','')\n",
    "    StonkCodes.at[i,'Company'] = row['Company'].replace('(JSE:'+row['Code']+')','')\n",
    "StonkCodes"
   ]
  },
  {
   "cell_type": "markdown",
   "metadata": {},
   "source": [
    "### Saving Dataset"
   ]
  },
  {
   "cell_type": "code",
   "execution_count": 37,
   "metadata": {},
   "outputs": [
    {
     "name": "stdout",
     "output_type": "stream",
     "text": [
      "Saved StonkCodes.csv\n"
     ]
    }
   ],
   "source": [
    "try:\n",
    "    StonkCodes.to_csv('StonkCodes.csv',index=False)\n",
    "    print('Saved StonkCodes.csv')\n",
    "except Exception as e:\n",
    "    print(e)"
   ]
  },
  {
   "cell_type": "markdown",
   "metadata": {},
   "source": [
    "We are now ready to use this data to extract more data and make some predictions later on. Eventually create the dash application."
   ]
  }
 ],
 "metadata": {
  "interpreter": {
   "hash": "3c5e62c22b15a649a0ef82ba1642c8d242063c96ec794d0d64bb4d1890e0fb9e"
  },
  "kernelspec": {
   "display_name": "Python 3.9.9 64-bit (windows store)",
   "language": "python",
   "name": "python3"
  },
  "language_info": {
   "codemirror_mode": {
    "name": "ipython",
    "version": 3
   },
   "file_extension": ".py",
   "mimetype": "text/x-python",
   "name": "python",
   "nbconvert_exporter": "python",
   "pygments_lexer": "ipython3",
   "version": "3.9.10"
  },
  "orig_nbformat": 4
 },
 "nbformat": 4,
 "nbformat_minor": 2
}
